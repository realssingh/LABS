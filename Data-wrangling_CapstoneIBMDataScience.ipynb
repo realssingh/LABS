{
 "cells": [
  {
   "cell_type": "markdown",
   "id": "31c3009e",
   "metadata": {
    "papermill": {
     "duration": 0.01113,
     "end_time": "2022-11-14T07:01:41.292024",
     "exception": false,
     "start_time": "2022-11-14T07:01:41.280894",
     "status": "completed"
    },
    "tags": []
   },
   "source": [
    "<p style=\"text-align:center\">\n",
    "    <a href=\"https://skills.network/?utm_medium=Exinfluencer&utm_source=Exinfluencer&utm_content=000026UJ&utm_term=10006555&utm_id=NA-SkillsNetwork-Channel-SkillsNetworkCoursesIBMDS0321ENSkillsNetwork26802033-2022-01-01\" target=\"_blank\">\n",
    "    <img src=\"https://cf-courses-data.s3.us.cloud-object-storage.appdomain.cloud/assets/logos/SN_web_lightmode.png\" width=\"200\" alt=\"Skills Network Logo\"  />\n",
    "    </a>\n",
    "</p>\n"
   ]
  },
  {
   "cell_type": "markdown",
   "id": "d3f2aa7c",
   "metadata": {
    "papermill": {
     "duration": 0.009495,
     "end_time": "2022-11-14T07:01:41.311429",
     "exception": false,
     "start_time": "2022-11-14T07:01:41.301934",
     "status": "completed"
    },
    "tags": []
   },
   "source": [
    "# **Space X  Falcon 9 First Stage Landing Prediction**\n"
   ]
  },
  {
   "cell_type": "markdown",
   "id": "b0ff0fb6",
   "metadata": {
    "papermill": {
     "duration": 0.01114,
     "end_time": "2022-11-14T07:01:41.332247",
     "exception": false,
     "start_time": "2022-11-14T07:01:41.321107",
     "status": "completed"
    },
    "tags": []
   },
   "source": [
    "## Lab 2: Data wrangling\n"
   ]
  },
  {
   "cell_type": "markdown",
   "id": "1bce6e33",
   "metadata": {
    "papermill": {
     "duration": 0.00983,
     "end_time": "2022-11-14T07:01:41.351723",
     "exception": false,
     "start_time": "2022-11-14T07:01:41.341893",
     "status": "completed"
    },
    "tags": []
   },
   "source": [
    "Estimated time needed: **60** minutes\n"
   ]
  },
  {
   "cell_type": "markdown",
   "id": "9ac33a21",
   "metadata": {
    "papermill": {
     "duration": 0.009562,
     "end_time": "2022-11-14T07:01:41.371111",
     "exception": false,
     "start_time": "2022-11-14T07:01:41.361549",
     "status": "completed"
    },
    "tags": []
   },
   "source": [
    "In this lab, we will perform some Exploratory Data Analysis (EDA) to find some patterns in the data and determine what would be the label for training supervised models.\n",
    "\n",
    "In the data set, there are several different cases where the booster did not land successfully. Sometimes a landing was attempted but failed due to an accident; for example, <code>True Ocean</code> means the mission outcome was successfully  landed to a specific region of the ocean while <code>False Ocean</code> means the mission outcome was unsuccessfully landed to a specific region of the ocean. <code>True RTLS</code> means the mission outcome was successfully  landed to a ground pad <code>False RTLS</code> means the mission outcome was unsuccessfully landed to a ground pad.<code>True ASDS</code> means the mission outcome was successfully landed on  a drone ship <code>False ASDS</code> means the mission outcome was unsuccessfully landed on a drone ship.\n",
    "\n",
    "In this lab we will mainly convert those outcomes into Training Labels with `1` means the booster successfully landed `0` means it was unsuccessful.\n"
   ]
  },
  {
   "cell_type": "markdown",
   "id": "09ebc277",
   "metadata": {
    "papermill": {
     "duration": 0.009455,
     "end_time": "2022-11-14T07:01:41.390603",
     "exception": false,
     "start_time": "2022-11-14T07:01:41.381148",
     "status": "completed"
    },
    "tags": []
   },
   "source": [
    "Falcon 9 first stage will land successfully\n"
   ]
  },
  {
   "cell_type": "markdown",
   "id": "1bf86b52",
   "metadata": {
    "papermill": {
     "duration": 0.009402,
     "end_time": "2022-11-14T07:01:41.409679",
     "exception": false,
     "start_time": "2022-11-14T07:01:41.400277",
     "status": "completed"
    },
    "tags": []
   },
   "source": [
    "![](https://cf-courses-data.s3.us.cloud-object-storage.appdomain.cloud/IBMDeveloperSkillsNetwork-DS0701EN-SkillsNetwork/api/Images/landing\\_1.gif)\n"
   ]
  },
  {
   "cell_type": "markdown",
   "id": "221ce5c6",
   "metadata": {
    "papermill": {
     "duration": 0.009447,
     "end_time": "2022-11-14T07:01:41.428873",
     "exception": false,
     "start_time": "2022-11-14T07:01:41.419426",
     "status": "completed"
    },
    "tags": []
   },
   "source": [
    "Several examples of an unsuccessful landing are shown here:\n"
   ]
  },
  {
   "cell_type": "markdown",
   "id": "2638b73b",
   "metadata": {
    "papermill": {
     "duration": 0.009602,
     "end_time": "2022-11-14T07:01:41.448743",
     "exception": false,
     "start_time": "2022-11-14T07:01:41.439141",
     "status": "completed"
    },
    "tags": []
   },
   "source": [
    "![](https://cf-courses-data.s3.us.cloud-object-storage.appdomain.cloud/IBMDeveloperSkillsNetwork-DS0701EN-SkillsNetwork/api/Images/crash.gif)\n"
   ]
  },
  {
   "cell_type": "markdown",
   "id": "e4262422",
   "metadata": {
    "papermill": {
     "duration": 0.009534,
     "end_time": "2022-11-14T07:01:41.467911",
     "exception": false,
     "start_time": "2022-11-14T07:01:41.458377",
     "status": "completed"
    },
    "tags": []
   },
   "source": []
  },
  {
   "cell_type": "markdown",
   "id": "f011da53",
   "metadata": {
    "papermill": {
     "duration": 0.009363,
     "end_time": "2022-11-14T07:01:41.487017",
     "exception": false,
     "start_time": "2022-11-14T07:01:41.477654",
     "status": "completed"
    },
    "tags": []
   },
   "source": [
    "## Objectives\n",
    "\n",
    "Perform exploratory  Data Analysis and determine Training Labels\n",
    "\n",
    "*   Exploratory Data Analysis\n",
    "*   Determine Training Labels\n"
   ]
  },
  {
   "cell_type": "markdown",
   "id": "c607f286",
   "metadata": {
    "papermill": {
     "duration": 0.009957,
     "end_time": "2022-11-14T07:01:41.508745",
     "exception": false,
     "start_time": "2022-11-14T07:01:41.498788",
     "status": "completed"
    },
    "tags": []
   },
   "source": [
    "***\n"
   ]
  },
  {
   "cell_type": "markdown",
   "id": "9a8cc07f",
   "metadata": {
    "papermill": {
     "duration": 0.009509,
     "end_time": "2022-11-14T07:01:41.527978",
     "exception": false,
     "start_time": "2022-11-14T07:01:41.518469",
     "status": "completed"
    },
    "tags": []
   },
   "source": [
    "## Import Libraries and Define Auxiliary Functions\n"
   ]
  },
  {
   "cell_type": "markdown",
   "id": "c318f17d",
   "metadata": {
    "papermill": {
     "duration": 0.0095,
     "end_time": "2022-11-14T07:01:41.547247",
     "exception": false,
     "start_time": "2022-11-14T07:01:41.537747",
     "status": "completed"
    },
    "tags": []
   },
   "source": [
    "We will import the following libraries.\n"
   ]
  },
  {
   "cell_type": "code",
   "execution_count": 1,
   "id": "73f607e8",
   "metadata": {
    "execution": {
     "iopub.execute_input": "2022-11-14T07:01:41.569007Z",
     "iopub.status.busy": "2022-11-14T07:01:41.568301Z",
     "iopub.status.idle": "2022-11-14T07:01:41.577930Z",
     "shell.execute_reply": "2022-11-14T07:01:41.576901Z"
    },
    "papermill": {
     "duration": 0.023204,
     "end_time": "2022-11-14T07:01:41.580208",
     "exception": false,
     "start_time": "2022-11-14T07:01:41.557004",
     "status": "completed"
    },
    "tags": []
   },
   "outputs": [],
   "source": [
    "# Pandas is a software library written for the Python programming language for data manipulation and analysis.\n",
    "import pandas as pd\n",
    "#NumPy is a library for the Python programming language, adding support for large, multi-dimensional arrays and matrices, along with a large collection of high-level mathematical functions to operate on these arrays\n",
    "import numpy as np"
   ]
  },
  {
   "cell_type": "markdown",
   "id": "cd98ec8a",
   "metadata": {
    "papermill": {
     "duration": 0.0096,
     "end_time": "2022-11-14T07:01:41.599710",
     "exception": false,
     "start_time": "2022-11-14T07:01:41.590110",
     "status": "completed"
    },
    "tags": []
   },
   "source": [
    "### Data Analysis\n"
   ]
  },
  {
   "cell_type": "markdown",
   "id": "9575b873",
   "metadata": {
    "papermill": {
     "duration": 0.009462,
     "end_time": "2022-11-14T07:01:41.619130",
     "exception": false,
     "start_time": "2022-11-14T07:01:41.609668",
     "status": "completed"
    },
    "tags": []
   },
   "source": [
    "Load Space X dataset, from last section.\n"
   ]
  },
  {
   "cell_type": "code",
   "execution_count": 2,
   "id": "a7cf66e8",
   "metadata": {
    "execution": {
     "iopub.execute_input": "2022-11-14T07:01:41.640603Z",
     "iopub.status.busy": "2022-11-14T07:01:41.640177Z",
     "iopub.status.idle": "2022-11-14T07:01:42.548831Z",
     "shell.execute_reply": "2022-11-14T07:01:42.547667Z"
    },
    "papermill": {
     "duration": 0.923619,
     "end_time": "2022-11-14T07:01:42.552557",
     "exception": false,
     "start_time": "2022-11-14T07:01:41.628938",
     "status": "completed"
    },
    "tags": []
   },
   "outputs": [
    {
     "data": {
      "text/html": [
       "<div>\n",
       "<style scoped>\n",
       "    .dataframe tbody tr th:only-of-type {\n",
       "        vertical-align: middle;\n",
       "    }\n",
       "\n",
       "    .dataframe tbody tr th {\n",
       "        vertical-align: top;\n",
       "    }\n",
       "\n",
       "    .dataframe thead th {\n",
       "        text-align: right;\n",
       "    }\n",
       "</style>\n",
       "<table border=\"1\" class=\"dataframe\">\n",
       "  <thead>\n",
       "    <tr style=\"text-align: right;\">\n",
       "      <th></th>\n",
       "      <th>FlightNumber</th>\n",
       "      <th>Date</th>\n",
       "      <th>BoosterVersion</th>\n",
       "      <th>PayloadMass</th>\n",
       "      <th>Orbit</th>\n",
       "      <th>LaunchSite</th>\n",
       "      <th>Outcome</th>\n",
       "      <th>Flights</th>\n",
       "      <th>GridFins</th>\n",
       "      <th>Reused</th>\n",
       "      <th>Legs</th>\n",
       "      <th>LandingPad</th>\n",
       "      <th>Block</th>\n",
       "      <th>ReusedCount</th>\n",
       "      <th>Serial</th>\n",
       "      <th>Longitude</th>\n",
       "      <th>Latitude</th>\n",
       "    </tr>\n",
       "  </thead>\n",
       "  <tbody>\n",
       "    <tr>\n",
       "      <th>0</th>\n",
       "      <td>1</td>\n",
       "      <td>2010-06-04</td>\n",
       "      <td>Falcon 9</td>\n",
       "      <td>6104.959412</td>\n",
       "      <td>LEO</td>\n",
       "      <td>CCAFS SLC 40</td>\n",
       "      <td>None None</td>\n",
       "      <td>1</td>\n",
       "      <td>False</td>\n",
       "      <td>False</td>\n",
       "      <td>False</td>\n",
       "      <td>NaN</td>\n",
       "      <td>1.0</td>\n",
       "      <td>0</td>\n",
       "      <td>B0003</td>\n",
       "      <td>-80.577366</td>\n",
       "      <td>28.561857</td>\n",
       "    </tr>\n",
       "    <tr>\n",
       "      <th>1</th>\n",
       "      <td>2</td>\n",
       "      <td>2012-05-22</td>\n",
       "      <td>Falcon 9</td>\n",
       "      <td>525.000000</td>\n",
       "      <td>LEO</td>\n",
       "      <td>CCAFS SLC 40</td>\n",
       "      <td>None None</td>\n",
       "      <td>1</td>\n",
       "      <td>False</td>\n",
       "      <td>False</td>\n",
       "      <td>False</td>\n",
       "      <td>NaN</td>\n",
       "      <td>1.0</td>\n",
       "      <td>0</td>\n",
       "      <td>B0005</td>\n",
       "      <td>-80.577366</td>\n",
       "      <td>28.561857</td>\n",
       "    </tr>\n",
       "    <tr>\n",
       "      <th>2</th>\n",
       "      <td>3</td>\n",
       "      <td>2013-03-01</td>\n",
       "      <td>Falcon 9</td>\n",
       "      <td>677.000000</td>\n",
       "      <td>ISS</td>\n",
       "      <td>CCAFS SLC 40</td>\n",
       "      <td>None None</td>\n",
       "      <td>1</td>\n",
       "      <td>False</td>\n",
       "      <td>False</td>\n",
       "      <td>False</td>\n",
       "      <td>NaN</td>\n",
       "      <td>1.0</td>\n",
       "      <td>0</td>\n",
       "      <td>B0007</td>\n",
       "      <td>-80.577366</td>\n",
       "      <td>28.561857</td>\n",
       "    </tr>\n",
       "    <tr>\n",
       "      <th>3</th>\n",
       "      <td>4</td>\n",
       "      <td>2013-09-29</td>\n",
       "      <td>Falcon 9</td>\n",
       "      <td>500.000000</td>\n",
       "      <td>PO</td>\n",
       "      <td>VAFB SLC 4E</td>\n",
       "      <td>False Ocean</td>\n",
       "      <td>1</td>\n",
       "      <td>False</td>\n",
       "      <td>False</td>\n",
       "      <td>False</td>\n",
       "      <td>NaN</td>\n",
       "      <td>1.0</td>\n",
       "      <td>0</td>\n",
       "      <td>B1003</td>\n",
       "      <td>-120.610829</td>\n",
       "      <td>34.632093</td>\n",
       "    </tr>\n",
       "    <tr>\n",
       "      <th>4</th>\n",
       "      <td>5</td>\n",
       "      <td>2013-12-03</td>\n",
       "      <td>Falcon 9</td>\n",
       "      <td>3170.000000</td>\n",
       "      <td>GTO</td>\n",
       "      <td>CCAFS SLC 40</td>\n",
       "      <td>None None</td>\n",
       "      <td>1</td>\n",
       "      <td>False</td>\n",
       "      <td>False</td>\n",
       "      <td>False</td>\n",
       "      <td>NaN</td>\n",
       "      <td>1.0</td>\n",
       "      <td>0</td>\n",
       "      <td>B1004</td>\n",
       "      <td>-80.577366</td>\n",
       "      <td>28.561857</td>\n",
       "    </tr>\n",
       "    <tr>\n",
       "      <th>5</th>\n",
       "      <td>6</td>\n",
       "      <td>2014-01-06</td>\n",
       "      <td>Falcon 9</td>\n",
       "      <td>3325.000000</td>\n",
       "      <td>GTO</td>\n",
       "      <td>CCAFS SLC 40</td>\n",
       "      <td>None None</td>\n",
       "      <td>1</td>\n",
       "      <td>False</td>\n",
       "      <td>False</td>\n",
       "      <td>False</td>\n",
       "      <td>NaN</td>\n",
       "      <td>1.0</td>\n",
       "      <td>0</td>\n",
       "      <td>B1005</td>\n",
       "      <td>-80.577366</td>\n",
       "      <td>28.561857</td>\n",
       "    </tr>\n",
       "    <tr>\n",
       "      <th>6</th>\n",
       "      <td>7</td>\n",
       "      <td>2014-04-18</td>\n",
       "      <td>Falcon 9</td>\n",
       "      <td>2296.000000</td>\n",
       "      <td>ISS</td>\n",
       "      <td>CCAFS SLC 40</td>\n",
       "      <td>True Ocean</td>\n",
       "      <td>1</td>\n",
       "      <td>False</td>\n",
       "      <td>False</td>\n",
       "      <td>True</td>\n",
       "      <td>NaN</td>\n",
       "      <td>1.0</td>\n",
       "      <td>0</td>\n",
       "      <td>B1006</td>\n",
       "      <td>-80.577366</td>\n",
       "      <td>28.561857</td>\n",
       "    </tr>\n",
       "    <tr>\n",
       "      <th>7</th>\n",
       "      <td>8</td>\n",
       "      <td>2014-07-14</td>\n",
       "      <td>Falcon 9</td>\n",
       "      <td>1316.000000</td>\n",
       "      <td>LEO</td>\n",
       "      <td>CCAFS SLC 40</td>\n",
       "      <td>True Ocean</td>\n",
       "      <td>1</td>\n",
       "      <td>False</td>\n",
       "      <td>False</td>\n",
       "      <td>True</td>\n",
       "      <td>NaN</td>\n",
       "      <td>1.0</td>\n",
       "      <td>0</td>\n",
       "      <td>B1007</td>\n",
       "      <td>-80.577366</td>\n",
       "      <td>28.561857</td>\n",
       "    </tr>\n",
       "    <tr>\n",
       "      <th>8</th>\n",
       "      <td>9</td>\n",
       "      <td>2014-08-05</td>\n",
       "      <td>Falcon 9</td>\n",
       "      <td>4535.000000</td>\n",
       "      <td>GTO</td>\n",
       "      <td>CCAFS SLC 40</td>\n",
       "      <td>None None</td>\n",
       "      <td>1</td>\n",
       "      <td>False</td>\n",
       "      <td>False</td>\n",
       "      <td>False</td>\n",
       "      <td>NaN</td>\n",
       "      <td>1.0</td>\n",
       "      <td>0</td>\n",
       "      <td>B1008</td>\n",
       "      <td>-80.577366</td>\n",
       "      <td>28.561857</td>\n",
       "    </tr>\n",
       "    <tr>\n",
       "      <th>9</th>\n",
       "      <td>10</td>\n",
       "      <td>2014-09-07</td>\n",
       "      <td>Falcon 9</td>\n",
       "      <td>4428.000000</td>\n",
       "      <td>GTO</td>\n",
       "      <td>CCAFS SLC 40</td>\n",
       "      <td>None None</td>\n",
       "      <td>1</td>\n",
       "      <td>False</td>\n",
       "      <td>False</td>\n",
       "      <td>False</td>\n",
       "      <td>NaN</td>\n",
       "      <td>1.0</td>\n",
       "      <td>0</td>\n",
       "      <td>B1011</td>\n",
       "      <td>-80.577366</td>\n",
       "      <td>28.561857</td>\n",
       "    </tr>\n",
       "  </tbody>\n",
       "</table>\n",
       "</div>"
      ],
      "text/plain": [
       "   FlightNumber        Date BoosterVersion  PayloadMass Orbit    LaunchSite  \\\n",
       "0             1  2010-06-04       Falcon 9  6104.959412   LEO  CCAFS SLC 40   \n",
       "1             2  2012-05-22       Falcon 9   525.000000   LEO  CCAFS SLC 40   \n",
       "2             3  2013-03-01       Falcon 9   677.000000   ISS  CCAFS SLC 40   \n",
       "3             4  2013-09-29       Falcon 9   500.000000    PO   VAFB SLC 4E   \n",
       "4             5  2013-12-03       Falcon 9  3170.000000   GTO  CCAFS SLC 40   \n",
       "5             6  2014-01-06       Falcon 9  3325.000000   GTO  CCAFS SLC 40   \n",
       "6             7  2014-04-18       Falcon 9  2296.000000   ISS  CCAFS SLC 40   \n",
       "7             8  2014-07-14       Falcon 9  1316.000000   LEO  CCAFS SLC 40   \n",
       "8             9  2014-08-05       Falcon 9  4535.000000   GTO  CCAFS SLC 40   \n",
       "9            10  2014-09-07       Falcon 9  4428.000000   GTO  CCAFS SLC 40   \n",
       "\n",
       "       Outcome  Flights  GridFins  Reused   Legs LandingPad  Block  \\\n",
       "0    None None        1     False   False  False        NaN    1.0   \n",
       "1    None None        1     False   False  False        NaN    1.0   \n",
       "2    None None        1     False   False  False        NaN    1.0   \n",
       "3  False Ocean        1     False   False  False        NaN    1.0   \n",
       "4    None None        1     False   False  False        NaN    1.0   \n",
       "5    None None        1     False   False  False        NaN    1.0   \n",
       "6   True Ocean        1     False   False   True        NaN    1.0   \n",
       "7   True Ocean        1     False   False   True        NaN    1.0   \n",
       "8    None None        1     False   False  False        NaN    1.0   \n",
       "9    None None        1     False   False  False        NaN    1.0   \n",
       "\n",
       "   ReusedCount Serial   Longitude   Latitude  \n",
       "0            0  B0003  -80.577366  28.561857  \n",
       "1            0  B0005  -80.577366  28.561857  \n",
       "2            0  B0007  -80.577366  28.561857  \n",
       "3            0  B1003 -120.610829  34.632093  \n",
       "4            0  B1004  -80.577366  28.561857  \n",
       "5            0  B1005  -80.577366  28.561857  \n",
       "6            0  B1006  -80.577366  28.561857  \n",
       "7            0  B1007  -80.577366  28.561857  \n",
       "8            0  B1008  -80.577366  28.561857  \n",
       "9            0  B1011  -80.577366  28.561857  "
      ]
     },
     "execution_count": 2,
     "metadata": {},
     "output_type": "execute_result"
    }
   ],
   "source": [
    "df=pd.read_csv(\"https://cf-courses-data.s3.us.cloud-object-storage.appdomain.cloud/IBM-DS0321EN-SkillsNetwork/datasets/dataset_part_1.csv\")\n",
    "df.head(10)"
   ]
  },
  {
   "cell_type": "markdown",
   "id": "9d65ccaf",
   "metadata": {
    "papermill": {
     "duration": 0.010411,
     "end_time": "2022-11-14T07:01:42.573751",
     "exception": false,
     "start_time": "2022-11-14T07:01:42.563340",
     "status": "completed"
    },
    "tags": []
   },
   "source": [
    "Identify and calculate the percentage of the missing values in each attribute\n"
   ]
  },
  {
   "cell_type": "code",
   "execution_count": 3,
   "id": "276cdb34",
   "metadata": {
    "execution": {
     "iopub.execute_input": "2022-11-14T07:01:42.597857Z",
     "iopub.status.busy": "2022-11-14T07:01:42.597140Z",
     "iopub.status.idle": "2022-11-14T07:01:42.611206Z",
     "shell.execute_reply": "2022-11-14T07:01:42.610143Z"
    },
    "papermill": {
     "duration": 0.028896,
     "end_time": "2022-11-14T07:01:42.613588",
     "exception": false,
     "start_time": "2022-11-14T07:01:42.584692",
     "status": "completed"
    },
    "tags": []
   },
   "outputs": [
    {
     "data": {
      "text/plain": [
       "FlightNumber       0.000\n",
       "Date               0.000\n",
       "BoosterVersion     0.000\n",
       "PayloadMass        0.000\n",
       "Orbit              0.000\n",
       "LaunchSite         0.000\n",
       "Outcome            0.000\n",
       "Flights            0.000\n",
       "GridFins           0.000\n",
       "Reused             0.000\n",
       "Legs               0.000\n",
       "LandingPad        40.625\n",
       "Block              0.000\n",
       "ReusedCount        0.000\n",
       "Serial             0.000\n",
       "Longitude          0.000\n",
       "Latitude           0.000\n",
       "dtype: float64"
      ]
     },
     "execution_count": 3,
     "metadata": {},
     "output_type": "execute_result"
    }
   ],
   "source": [
    "df.isnull().sum()/df.count()*100"
   ]
  },
  {
   "cell_type": "markdown",
   "id": "ac622a3b",
   "metadata": {
    "papermill": {
     "duration": 0.010183,
     "end_time": "2022-11-14T07:01:42.634261",
     "exception": false,
     "start_time": "2022-11-14T07:01:42.624078",
     "status": "completed"
    },
    "tags": []
   },
   "source": [
    "Identify which columns are numerical and categorical:\n"
   ]
  },
  {
   "cell_type": "code",
   "execution_count": 4,
   "id": "118ff2c6",
   "metadata": {
    "execution": {
     "iopub.execute_input": "2022-11-14T07:01:42.657235Z",
     "iopub.status.busy": "2022-11-14T07:01:42.656834Z",
     "iopub.status.idle": "2022-11-14T07:01:42.664741Z",
     "shell.execute_reply": "2022-11-14T07:01:42.663686Z"
    },
    "papermill": {
     "duration": 0.021996,
     "end_time": "2022-11-14T07:01:42.666862",
     "exception": false,
     "start_time": "2022-11-14T07:01:42.644866",
     "status": "completed"
    },
    "tags": []
   },
   "outputs": [
    {
     "data": {
      "text/plain": [
       "FlightNumber        int64\n",
       "Date               object\n",
       "BoosterVersion     object\n",
       "PayloadMass       float64\n",
       "Orbit              object\n",
       "LaunchSite         object\n",
       "Outcome            object\n",
       "Flights             int64\n",
       "GridFins             bool\n",
       "Reused               bool\n",
       "Legs                 bool\n",
       "LandingPad         object\n",
       "Block             float64\n",
       "ReusedCount         int64\n",
       "Serial             object\n",
       "Longitude         float64\n",
       "Latitude          float64\n",
       "dtype: object"
      ]
     },
     "execution_count": 4,
     "metadata": {},
     "output_type": "execute_result"
    }
   ],
   "source": [
    "df.dtypes"
   ]
  },
  {
   "cell_type": "markdown",
   "id": "fb27e79d",
   "metadata": {
    "papermill": {
     "duration": 0.010168,
     "end_time": "2022-11-14T07:01:42.687648",
     "exception": false,
     "start_time": "2022-11-14T07:01:42.677480",
     "status": "completed"
    },
    "tags": []
   },
   "source": [
    "### TASK 1: Calculate the number of launches on each site\n",
    "\n",
    "The data contains several Space X  launch facilities: <a href='https://en.wikipedia.org/wiki/List_of_Cape_Canaveral_and_Merritt_Island_launch_sites?utm_medium=Exinfluencer&utm_source=Exinfluencer&utm_content=000026UJ&utm_term=10006555&utm_id=NA-SkillsNetwork-Channel-SkillsNetworkCoursesIBMDS0321ENSkillsNetwork26802033-2022-01-01'>Cape Canaveral Space</a> Launch Complex 40  <b>VAFB SLC 4E </b> , Vandenberg Air Force Base Space Launch Complex 4E <b>(SLC-4E)</b>, Kennedy Space Center Launch Complex 39A <b>KSC LC 39A </b>.The location of each Launch Is placed in the column <code>LaunchSite</code>\n"
   ]
  },
  {
   "cell_type": "markdown",
   "id": "0a76b994",
   "metadata": {
    "papermill": {
     "duration": 0.010078,
     "end_time": "2022-11-14T07:01:42.708125",
     "exception": false,
     "start_time": "2022-11-14T07:01:42.698047",
     "status": "completed"
    },
    "tags": []
   },
   "source": [
    "Next, let's see the number of launches for each site.\n",
    "\n",
    "Use the method  <code>value_counts()</code> on the column <code>LaunchSite</code> to determine the number of launches  on each site:\n"
   ]
  },
  {
   "cell_type": "code",
   "execution_count": 5,
   "id": "901080d7",
   "metadata": {
    "execution": {
     "iopub.execute_input": "2022-11-14T07:01:42.731113Z",
     "iopub.status.busy": "2022-11-14T07:01:42.730460Z",
     "iopub.status.idle": "2022-11-14T07:01:42.744276Z",
     "shell.execute_reply": "2022-11-14T07:01:42.743088Z"
    },
    "papermill": {
     "duration": 0.028066,
     "end_time": "2022-11-14T07:01:42.746659",
     "exception": false,
     "start_time": "2022-11-14T07:01:42.718593",
     "status": "completed"
    },
    "tags": []
   },
   "outputs": [
    {
     "data": {
      "text/plain": [
       "CCAFS SLC 40    55\n",
       "KSC LC 39A      22\n",
       "VAFB SLC 4E     13\n",
       "Name: LaunchSite, dtype: int64"
      ]
     },
     "execution_count": 5,
     "metadata": {},
     "output_type": "execute_result"
    }
   ],
   "source": [
    "# Apply value_counts() on column LaunchSite\n",
    "df['LaunchSite'].value_counts()"
   ]
  },
  {
   "cell_type": "markdown",
   "id": "7980b04f",
   "metadata": {
    "papermill": {
     "duration": 0.010326,
     "end_time": "2022-11-14T07:01:42.767638",
     "exception": false,
     "start_time": "2022-11-14T07:01:42.757312",
     "status": "completed"
    },
    "tags": []
   },
   "source": [
    "Each launch aims to an dedicated orbit, and here are some common orbit types:\n"
   ]
  },
  {
   "cell_type": "markdown",
   "id": "37882b66",
   "metadata": {
    "papermill": {
     "duration": 0.01022,
     "end_time": "2022-11-14T07:01:42.788636",
     "exception": false,
     "start_time": "2022-11-14T07:01:42.778416",
     "status": "completed"
    },
    "tags": []
   },
   "source": [
    "*   <b>LEO</b>: Low Earth orbit (LEO)is an Earth-centred orbit with an altitude of 2,000 km (1,200 mi) or less (approximately one-third of the radius of Earth),\\[1] or with at least 11.25 periods per day (an orbital period of 128 minutes or less) and an eccentricity less than 0.25.\\[2] Most of the manmade objects in outer space are in LEO <a href='https://en.wikipedia.org/wiki/Low_Earth_orbit?utm_medium=Exinfluencer&utm_source=Exinfluencer&utm_content=000026UJ&utm_term=10006555&utm_id=NA-SkillsNetwork-Channel-SkillsNetworkCoursesIBMDS0321ENSkillsNetwork26802033-2022-01-01'>\\[1]</a>.\n",
    "\n",
    "*   <b>VLEO</b>: Very Low Earth Orbits (VLEO) can be defined as the orbits with a mean altitude below 450 km. Operating in these orbits can provide a number of benefits to Earth observation spacecraft as the spacecraft operates closer to the observation<a href='https://www.researchgate.net/publication/271499606_Very_Low_Earth_Orbit_mission_concepts_for_Earth_Observation_Benefits_and_challenges?utm_medium=Exinfluencer&utm_source=Exinfluencer&utm_content=000026UJ&utm_term=10006555&utm_id=NA-SkillsNetwork-Channel-SkillsNetworkCoursesIBMDS0321ENSkillsNetwork26802033-2022-01-01'>\\[2]</a>.\n",
    "\n",
    "*   <b>GTO</b> A geosynchronous orbit is a high Earth orbit that allows satellites to match Earth's rotation. Located at 22,236 miles (35,786 kilometers) above Earth's equator, this position is a valuable spot for monitoring weather, communications and surveillance. Because the satellite orbits at the same speed that the Earth is turning, the satellite seems to stay in place over a single longitude, though it may drift north to south,” NASA wrote on its Earth Observatory website <a  href=\"https://www.space.com/29222-geosynchronous-orbit.html?utm_medium=Exinfluencer&utm_source=Exinfluencer&utm_content=000026UJ&utm_term=10006555&utm_id=NA-SkillsNetwork-Channel-SkillsNetworkCoursesIBMDS0321ENSkillsNetwork26802033-2022-01-01\" >\\[3] </a>.\n",
    "\n",
    "*   <b>SSO (or SO)</b>: It is a Sun-synchronous orbit  also called a heliosynchronous orbit is a nearly polar orbit around a planet, in which the satellite passes over any given point of the planet's surface at the same local mean solar time <a href=\"https://en.wikipedia.org/wiki/Sun-synchronous_orbit?utm_medium=Exinfluencer&utm_source=Exinfluencer&utm_content=000026UJ&utm_term=10006555&utm_id=NA-SkillsNetwork-Channel-SkillsNetworkCoursesIBMDS0321ENSkillsNetwork26802033-2022-01-01\">\\[4] <a>.\n",
    "\n",
    "*   <b>ES-L1 </b>:At the Lagrange points the gravitational forces of the two large bodies cancel out in such a way that a small object placed in orbit there is in equilibrium relative to the center of mass of the large bodies. L1 is one such point between the sun and the earth <a href=\"https://en.wikipedia.org/wiki/Lagrange_point?utm_medium=Exinfluencer&utm_source=Exinfluencer&utm_content=000026UJ&utm_term=10006555&utm_id=NA-SkillsNetwork-Channel-SkillsNetworkCoursesIBMDS0321ENSkillsNetwork26802033-2022-01-01#L1_point\">\\[5]</a> .\n",
    "\n",
    "*   <b>HEO</b> A highly elliptical orbit, is an elliptic orbit with high eccentricity, usually referring to one around Earth <a href=\"https://en.wikipedia.org/wiki/Highly_elliptical_orbit?utm_medium=Exinfluencer&utm_source=Exinfluencer&utm_content=000026UJ&utm_term=10006555&utm_id=NA-SkillsNetwork-Channel-SkillsNetworkCoursesIBMDS0321ENSkillsNetwork26802033-2022-01-01\">\\[6]</a>.\n",
    "\n",
    "*   <b> ISS </b> A modular space station (habitable artificial satellite) in low Earth orbit. It is a multinational collaborative project between five participating space agencies: NASA (United States), Roscosmos (Russia), JAXA (Japan), ESA (Europe), and CSA (Canada)<a href=\"https://en.wikipedia.org/wiki/International_Space_Station?utm_medium=Exinfluencer&utm_source=Exinfluencer&utm_content=000026UJ&utm_term=10006555&utm_id=NA-SkillsNetwork-Channel-SkillsNetworkCoursesIBMDS0321ENSkillsNetwork26802033-2022-01-01\"> \\[7] </a>\n",
    "\n",
    "*   <b> MEO </b> Geocentric orbits ranging in altitude from 2,000 km (1,200 mi) to just below geosynchronous orbit at 35,786 kilometers (22,236 mi). Also known as an intermediate circular orbit. These are \"most commonly at 20,200 kilometers (12,600 mi), or 20,650 kilometers (12,830 mi), with an orbital period of 12 hours <a href=\"https://en.wikipedia.org/wiki/List_of_orbits?utm_medium=Exinfluencer&utm_source=Exinfluencer&utm_content=000026UJ&utm_term=10006555&utm_id=NA-SkillsNetwork-Channel-SkillsNetworkCoursesIBMDS0321ENSkillsNetwork26802033-2022-01-01\"> \\[8] </a>\n",
    "\n",
    "*   <b> HEO </b> Geocentric orbits above the altitude of geosynchronous orbit (35,786 km or 22,236 mi) <a href=\"https://en.wikipedia.org/wiki/List_of_orbits?utm_medium=Exinfluencer&utm_source=Exinfluencer&utm_content=000026UJ&utm_term=10006555&utm_id=NA-SkillsNetwork-Channel-SkillsNetworkCoursesIBMDS0321ENSkillsNetwork26802033-2022-01-01\"> \\[9] </a>\n",
    "\n",
    "*   <b> GEO </b> It is a circular geosynchronous orbit 35,786 kilometres (22,236 miles) above Earth's equator and following the direction of Earth's rotation <a href=\"https://en.wikipedia.org/wiki/Geostationary_orbit?utm_medium=Exinfluencer&utm_source=Exinfluencer&utm_content=000026UJ&utm_term=10006555&utm_id=NA-SkillsNetwork-Channel-SkillsNetworkCoursesIBMDS0321ENSkillsNetwork26802033-2022-01-01\"> \\[10] </a>\n",
    "\n",
    "*   <b> PO </b> It is one type of satellites in which a satellite passes above or nearly above both poles of the body being orbited (usually a planet such as the Earth <a href=\"https://en.wikipedia.org/wiki/Polar_orbit?utm_medium=Exinfluencer&utm_source=Exinfluencer&utm_content=000026UJ&utm_term=10006555&utm_id=NA-SkillsNetwork-Channel-SkillsNetworkCoursesIBMDS0321ENSkillsNetwork26802033-2022-01-01\"> \\[11] </a>\n",
    "\n",
    "some are shown in the following plot:\n"
   ]
  },
  {
   "cell_type": "markdown",
   "id": "b542ccba",
   "metadata": {
    "papermill": {
     "duration": 0.010241,
     "end_time": "2022-11-14T07:01:42.809430",
     "exception": false,
     "start_time": "2022-11-14T07:01:42.799189",
     "status": "completed"
    },
    "tags": []
   },
   "source": [
    "![](https://cf-courses-data.s3.us.cloud-object-storage.appdomain.cloud/IBMDeveloperSkillsNetwork-DS0701EN-SkillsNetwork/api/Images/Orbits.png)\n"
   ]
  },
  {
   "cell_type": "markdown",
   "id": "f80bbc4d",
   "metadata": {
    "papermill": {
     "duration": 0.010193,
     "end_time": "2022-11-14T07:01:42.830126",
     "exception": false,
     "start_time": "2022-11-14T07:01:42.819933",
     "status": "completed"
    },
    "tags": []
   },
   "source": [
    "### TASK 2: Calculate the number and occurrence of each orbit\n"
   ]
  },
  {
   "cell_type": "markdown",
   "id": "fb7f892a",
   "metadata": {
    "papermill": {
     "duration": 0.010129,
     "end_time": "2022-11-14T07:01:42.850744",
     "exception": false,
     "start_time": "2022-11-14T07:01:42.840615",
     "status": "completed"
    },
    "tags": []
   },
   "source": [
    "Use the method  <code>.value_counts()</code> to determine the number and occurrence of each orbit in the  column <code>Orbit</code>\n"
   ]
  },
  {
   "cell_type": "code",
   "execution_count": 6,
   "id": "f918ed5f",
   "metadata": {
    "execution": {
     "iopub.execute_input": "2022-11-14T07:01:42.878224Z",
     "iopub.status.busy": "2022-11-14T07:01:42.877382Z",
     "iopub.status.idle": "2022-11-14T07:01:42.888588Z",
     "shell.execute_reply": "2022-11-14T07:01:42.886773Z"
    },
    "papermill": {
     "duration": 0.030439,
     "end_time": "2022-11-14T07:01:42.892616",
     "exception": false,
     "start_time": "2022-11-14T07:01:42.862177",
     "status": "completed"
    },
    "tags": []
   },
   "outputs": [
    {
     "data": {
      "text/plain": [
       "True ASDS      41\n",
       "None None      19\n",
       "True RTLS      14\n",
       "False ASDS      6\n",
       "True Ocean      5\n",
       "False Ocean     2\n",
       "None ASDS       2\n",
       "False RTLS      1\n",
       "Name: Outcome, dtype: int64"
      ]
     },
     "execution_count": 6,
     "metadata": {},
     "output_type": "execute_result"
    }
   ],
   "source": [
    "# Apply value_counts on Orbit column\n",
    "landing_outcomes = df['Outcome'].value_counts()\n",
    "landing_outcomes"
   ]
  },
  {
   "cell_type": "markdown",
   "id": "1650c145",
   "metadata": {
    "papermill": {
     "duration": 0.014782,
     "end_time": "2022-11-14T07:01:42.923452",
     "exception": false,
     "start_time": "2022-11-14T07:01:42.908670",
     "status": "completed"
    },
    "tags": []
   },
   "source": [
    "### TASK 3: Calculate the number and occurence of mission outcome per orbit type\n"
   ]
  },
  {
   "cell_type": "markdown",
   "id": "7271c836",
   "metadata": {
    "papermill": {
     "duration": 0.010562,
     "end_time": "2022-11-14T07:01:42.948165",
     "exception": false,
     "start_time": "2022-11-14T07:01:42.937603",
     "status": "completed"
    },
    "tags": []
   },
   "source": [
    "Use the method <code>.value_counts()</code> on the column <code>Outcome</code> to determine the number of <code>landing_outcomes</code>.Then assign it to a variable landing_outcomes.\n"
   ]
  },
  {
   "cell_type": "code",
   "execution_count": 7,
   "id": "2ea75a89",
   "metadata": {
    "execution": {
     "iopub.execute_input": "2022-11-14T07:01:42.971969Z",
     "iopub.status.busy": "2022-11-14T07:01:42.971557Z",
     "iopub.status.idle": "2022-11-14T07:01:42.977891Z",
     "shell.execute_reply": "2022-11-14T07:01:42.976614Z"
    },
    "papermill": {
     "duration": 0.021163,
     "end_time": "2022-11-14T07:01:42.980578",
     "exception": false,
     "start_time": "2022-11-14T07:01:42.959415",
     "status": "completed"
    },
    "tags": []
   },
   "outputs": [
    {
     "name": "stdout",
     "output_type": "stream",
     "text": [
      "0 True ASDS\n",
      "1 None None\n",
      "2 True RTLS\n",
      "3 False ASDS\n",
      "4 True Ocean\n",
      "5 False Ocean\n",
      "6 None ASDS\n",
      "7 False RTLS\n"
     ]
    }
   ],
   "source": [
    "# landing_outcomes = values on Outcome column\n",
    "for i,outcome in enumerate(landing_outcomes.keys()):\n",
    "    print(i,outcome)"
   ]
  },
  {
   "cell_type": "markdown",
   "id": "5f2adfc8",
   "metadata": {
    "papermill": {
     "duration": 0.011097,
     "end_time": "2022-11-14T07:01:43.002743",
     "exception": false,
     "start_time": "2022-11-14T07:01:42.991646",
     "status": "completed"
    },
    "tags": []
   },
   "source": [
    "<code>True Ocean</code> means the mission outcome was successfully  landed to a specific region of the ocean while <code>False Ocean</code> means the mission outcome was unsuccessfully landed to a specific region of the ocean. <code>True RTLS</code> means the mission outcome was successfully  landed to a ground pad <code>False RTLS</code> means the mission outcome was unsuccessfully landed to a ground pad.<code>True ASDS</code> means the mission outcome was successfully  landed to a drone ship <code>False ASDS</code> means the mission outcome was unsuccessfully landed to a drone ship. <code>None ASDS</code> and <code>None None</code> these represent a failure to land.\n"
   ]
  },
  {
   "cell_type": "code",
   "execution_count": 8,
   "id": "80c215a4",
   "metadata": {
    "execution": {
     "iopub.execute_input": "2022-11-14T07:01:43.025902Z",
     "iopub.status.busy": "2022-11-14T07:01:43.025514Z",
     "iopub.status.idle": "2022-11-14T07:01:43.031355Z",
     "shell.execute_reply": "2022-11-14T07:01:43.030041Z"
    },
    "papermill": {
     "duration": 0.020688,
     "end_time": "2022-11-14T07:01:43.034235",
     "exception": false,
     "start_time": "2022-11-14T07:01:43.013547",
     "status": "completed"
    },
    "tags": []
   },
   "outputs": [
    {
     "name": "stdout",
     "output_type": "stream",
     "text": [
      "0 True ASDS\n",
      "1 None None\n",
      "2 True RTLS\n",
      "3 False ASDS\n",
      "4 True Ocean\n",
      "5 False Ocean\n",
      "6 None ASDS\n",
      "7 False RTLS\n"
     ]
    }
   ],
   "source": [
    "for i,outcome in enumerate(landing_outcomes.keys()):\n",
    "    print(i,outcome)"
   ]
  },
  {
   "cell_type": "markdown",
   "id": "7c349171",
   "metadata": {
    "papermill": {
     "duration": 0.010636,
     "end_time": "2022-11-14T07:01:43.056205",
     "exception": false,
     "start_time": "2022-11-14T07:01:43.045569",
     "status": "completed"
    },
    "tags": []
   },
   "source": [
    "We create a set of outcomes where the second stage did not land successfully:\n"
   ]
  },
  {
   "cell_type": "code",
   "execution_count": 9,
   "id": "109fac48",
   "metadata": {
    "execution": {
     "iopub.execute_input": "2022-11-14T07:01:43.079354Z",
     "iopub.status.busy": "2022-11-14T07:01:43.078977Z",
     "iopub.status.idle": "2022-11-14T07:01:43.086548Z",
     "shell.execute_reply": "2022-11-14T07:01:43.085449Z"
    },
    "papermill": {
     "duration": 0.021927,
     "end_time": "2022-11-14T07:01:43.088796",
     "exception": false,
     "start_time": "2022-11-14T07:01:43.066869",
     "status": "completed"
    },
    "tags": []
   },
   "outputs": [
    {
     "data": {
      "text/plain": [
       "{'False ASDS', 'False Ocean', 'False RTLS', 'None ASDS', 'None None'}"
      ]
     },
     "execution_count": 9,
     "metadata": {},
     "output_type": "execute_result"
    }
   ],
   "source": [
    "bad_outcomes=set(landing_outcomes.keys()[[1,3,5,6,7]])\n",
    "bad_outcomes"
   ]
  },
  {
   "cell_type": "markdown",
   "id": "e1643036",
   "metadata": {
    "papermill": {
     "duration": 0.011073,
     "end_time": "2022-11-14T07:01:43.111185",
     "exception": false,
     "start_time": "2022-11-14T07:01:43.100112",
     "status": "completed"
    },
    "tags": []
   },
   "source": [
    "### TASK 4: Create a landing outcome label from Outcome column\n"
   ]
  },
  {
   "cell_type": "markdown",
   "id": "41f118ed",
   "metadata": {
    "papermill": {
     "duration": 0.010539,
     "end_time": "2022-11-14T07:01:43.132677",
     "exception": false,
     "start_time": "2022-11-14T07:01:43.122138",
     "status": "completed"
    },
    "tags": []
   },
   "source": [
    "Using the <code>Outcome</code>,  create a list where the element is zero if the corresponding  row  in  <code>Outcome</code> is in the set <code>bad_outcome</code>; otherwise, it's one. Then assign it to the variable <code>landing_class</code>:\n"
   ]
  },
  {
   "cell_type": "code",
   "execution_count": 10,
   "id": "ed8ad79c",
   "metadata": {
    "execution": {
     "iopub.execute_input": "2022-11-14T07:01:43.155992Z",
     "iopub.status.busy": "2022-11-14T07:01:43.155467Z",
     "iopub.status.idle": "2022-11-14T07:01:43.162653Z",
     "shell.execute_reply": "2022-11-14T07:01:43.161730Z"
    },
    "papermill": {
     "duration": 0.021343,
     "end_time": "2022-11-14T07:01:43.164728",
     "exception": false,
     "start_time": "2022-11-14T07:01:43.143385",
     "status": "completed"
    },
    "tags": []
   },
   "outputs": [
    {
     "data": {
      "text/plain": [
       "{'False ASDS', 'False Ocean', 'False RTLS', 'None ASDS', 'None None'}"
      ]
     },
     "execution_count": 10,
     "metadata": {},
     "output_type": "execute_result"
    }
   ],
   "source": [
    "# landing_class = 0 if bad_outcome\n",
    "# landing_class = 1 otherwise\n",
    "bad_outcomes=set(landing_outcomes.keys()[[1,3,5,6,7]])\n",
    "bad_outcomes"
   ]
  },
  {
   "cell_type": "markdown",
   "id": "b4105e41",
   "metadata": {
    "papermill": {
     "duration": 0.010564,
     "end_time": "2022-11-14T07:01:43.186293",
     "exception": false,
     "start_time": "2022-11-14T07:01:43.175729",
     "status": "completed"
    },
    "tags": []
   },
   "source": [
    "This variable will represent the classification variable that represents the outcome of each launch. If the value is zero, the  first stage did not land successfully; one means  the first stage landed Successfully\n"
   ]
  },
  {
   "cell_type": "code",
   "execution_count": 11,
   "id": "fc824b22",
   "metadata": {
    "execution": {
     "iopub.execute_input": "2022-11-14T07:01:43.209764Z",
     "iopub.status.busy": "2022-11-14T07:01:43.209347Z",
     "iopub.status.idle": "2022-11-14T07:01:43.223890Z",
     "shell.execute_reply": "2022-11-14T07:01:43.223094Z"
    },
    "papermill": {
     "duration": 0.028829,
     "end_time": "2022-11-14T07:01:43.225986",
     "exception": false,
     "start_time": "2022-11-14T07:01:43.197157",
     "status": "completed"
    },
    "tags": []
   },
   "outputs": [
    {
     "data": {
      "text/html": [
       "<div>\n",
       "<style scoped>\n",
       "    .dataframe tbody tr th:only-of-type {\n",
       "        vertical-align: middle;\n",
       "    }\n",
       "\n",
       "    .dataframe tbody tr th {\n",
       "        vertical-align: top;\n",
       "    }\n",
       "\n",
       "    .dataframe thead th {\n",
       "        text-align: right;\n",
       "    }\n",
       "</style>\n",
       "<table border=\"1\" class=\"dataframe\">\n",
       "  <thead>\n",
       "    <tr style=\"text-align: right;\">\n",
       "      <th></th>\n",
       "      <th>Class</th>\n",
       "    </tr>\n",
       "  </thead>\n",
       "  <tbody>\n",
       "    <tr>\n",
       "      <th>0</th>\n",
       "      <td>0</td>\n",
       "    </tr>\n",
       "    <tr>\n",
       "      <th>1</th>\n",
       "      <td>0</td>\n",
       "    </tr>\n",
       "    <tr>\n",
       "      <th>2</th>\n",
       "      <td>0</td>\n",
       "    </tr>\n",
       "    <tr>\n",
       "      <th>3</th>\n",
       "      <td>0</td>\n",
       "    </tr>\n",
       "    <tr>\n",
       "      <th>4</th>\n",
       "      <td>0</td>\n",
       "    </tr>\n",
       "    <tr>\n",
       "      <th>5</th>\n",
       "      <td>0</td>\n",
       "    </tr>\n",
       "    <tr>\n",
       "      <th>6</th>\n",
       "      <td>1</td>\n",
       "    </tr>\n",
       "    <tr>\n",
       "      <th>7</th>\n",
       "      <td>1</td>\n",
       "    </tr>\n",
       "  </tbody>\n",
       "</table>\n",
       "</div>"
      ],
      "text/plain": [
       "   Class\n",
       "0      0\n",
       "1      0\n",
       "2      0\n",
       "3      0\n",
       "4      0\n",
       "5      0\n",
       "6      1\n",
       "7      1"
      ]
     },
     "execution_count": 11,
     "metadata": {},
     "output_type": "execute_result"
    }
   ],
   "source": [
    "landing_class = []\n",
    "\n",
    "for key, value in df['Outcome'].items():\n",
    "    if value in bad_outcomes:\n",
    "        landing_class.append(0)\n",
    "    else:\n",
    "        landing_class.append(1)\n",
    "df['Class']=landing_class\n",
    "df[['Class']].head(8)"
   ]
  },
  {
   "cell_type": "code",
   "execution_count": 12,
   "id": "bb022bd8",
   "metadata": {
    "execution": {
     "iopub.execute_input": "2022-11-14T07:01:43.250424Z",
     "iopub.status.busy": "2022-11-14T07:01:43.250017Z",
     "iopub.status.idle": "2022-11-14T07:01:43.270295Z",
     "shell.execute_reply": "2022-11-14T07:01:43.269453Z"
    },
    "papermill": {
     "duration": 0.035103,
     "end_time": "2022-11-14T07:01:43.272458",
     "exception": false,
     "start_time": "2022-11-14T07:01:43.237355",
     "status": "completed"
    },
    "tags": []
   },
   "outputs": [
    {
     "data": {
      "text/html": [
       "<div>\n",
       "<style scoped>\n",
       "    .dataframe tbody tr th:only-of-type {\n",
       "        vertical-align: middle;\n",
       "    }\n",
       "\n",
       "    .dataframe tbody tr th {\n",
       "        vertical-align: top;\n",
       "    }\n",
       "\n",
       "    .dataframe thead th {\n",
       "        text-align: right;\n",
       "    }\n",
       "</style>\n",
       "<table border=\"1\" class=\"dataframe\">\n",
       "  <thead>\n",
       "    <tr style=\"text-align: right;\">\n",
       "      <th></th>\n",
       "      <th>FlightNumber</th>\n",
       "      <th>Date</th>\n",
       "      <th>BoosterVersion</th>\n",
       "      <th>PayloadMass</th>\n",
       "      <th>Orbit</th>\n",
       "      <th>LaunchSite</th>\n",
       "      <th>Outcome</th>\n",
       "      <th>Flights</th>\n",
       "      <th>GridFins</th>\n",
       "      <th>Reused</th>\n",
       "      <th>Legs</th>\n",
       "      <th>LandingPad</th>\n",
       "      <th>Block</th>\n",
       "      <th>ReusedCount</th>\n",
       "      <th>Serial</th>\n",
       "      <th>Longitude</th>\n",
       "      <th>Latitude</th>\n",
       "      <th>Class</th>\n",
       "    </tr>\n",
       "  </thead>\n",
       "  <tbody>\n",
       "    <tr>\n",
       "      <th>0</th>\n",
       "      <td>1</td>\n",
       "      <td>2010-06-04</td>\n",
       "      <td>Falcon 9</td>\n",
       "      <td>6104.959412</td>\n",
       "      <td>LEO</td>\n",
       "      <td>CCAFS SLC 40</td>\n",
       "      <td>None None</td>\n",
       "      <td>1</td>\n",
       "      <td>False</td>\n",
       "      <td>False</td>\n",
       "      <td>False</td>\n",
       "      <td>NaN</td>\n",
       "      <td>1.0</td>\n",
       "      <td>0</td>\n",
       "      <td>B0003</td>\n",
       "      <td>-80.577366</td>\n",
       "      <td>28.561857</td>\n",
       "      <td>0</td>\n",
       "    </tr>\n",
       "    <tr>\n",
       "      <th>1</th>\n",
       "      <td>2</td>\n",
       "      <td>2012-05-22</td>\n",
       "      <td>Falcon 9</td>\n",
       "      <td>525.000000</td>\n",
       "      <td>LEO</td>\n",
       "      <td>CCAFS SLC 40</td>\n",
       "      <td>None None</td>\n",
       "      <td>1</td>\n",
       "      <td>False</td>\n",
       "      <td>False</td>\n",
       "      <td>False</td>\n",
       "      <td>NaN</td>\n",
       "      <td>1.0</td>\n",
       "      <td>0</td>\n",
       "      <td>B0005</td>\n",
       "      <td>-80.577366</td>\n",
       "      <td>28.561857</td>\n",
       "      <td>0</td>\n",
       "    </tr>\n",
       "    <tr>\n",
       "      <th>2</th>\n",
       "      <td>3</td>\n",
       "      <td>2013-03-01</td>\n",
       "      <td>Falcon 9</td>\n",
       "      <td>677.000000</td>\n",
       "      <td>ISS</td>\n",
       "      <td>CCAFS SLC 40</td>\n",
       "      <td>None None</td>\n",
       "      <td>1</td>\n",
       "      <td>False</td>\n",
       "      <td>False</td>\n",
       "      <td>False</td>\n",
       "      <td>NaN</td>\n",
       "      <td>1.0</td>\n",
       "      <td>0</td>\n",
       "      <td>B0007</td>\n",
       "      <td>-80.577366</td>\n",
       "      <td>28.561857</td>\n",
       "      <td>0</td>\n",
       "    </tr>\n",
       "    <tr>\n",
       "      <th>3</th>\n",
       "      <td>4</td>\n",
       "      <td>2013-09-29</td>\n",
       "      <td>Falcon 9</td>\n",
       "      <td>500.000000</td>\n",
       "      <td>PO</td>\n",
       "      <td>VAFB SLC 4E</td>\n",
       "      <td>False Ocean</td>\n",
       "      <td>1</td>\n",
       "      <td>False</td>\n",
       "      <td>False</td>\n",
       "      <td>False</td>\n",
       "      <td>NaN</td>\n",
       "      <td>1.0</td>\n",
       "      <td>0</td>\n",
       "      <td>B1003</td>\n",
       "      <td>-120.610829</td>\n",
       "      <td>34.632093</td>\n",
       "      <td>0</td>\n",
       "    </tr>\n",
       "    <tr>\n",
       "      <th>4</th>\n",
       "      <td>5</td>\n",
       "      <td>2013-12-03</td>\n",
       "      <td>Falcon 9</td>\n",
       "      <td>3170.000000</td>\n",
       "      <td>GTO</td>\n",
       "      <td>CCAFS SLC 40</td>\n",
       "      <td>None None</td>\n",
       "      <td>1</td>\n",
       "      <td>False</td>\n",
       "      <td>False</td>\n",
       "      <td>False</td>\n",
       "      <td>NaN</td>\n",
       "      <td>1.0</td>\n",
       "      <td>0</td>\n",
       "      <td>B1004</td>\n",
       "      <td>-80.577366</td>\n",
       "      <td>28.561857</td>\n",
       "      <td>0</td>\n",
       "    </tr>\n",
       "  </tbody>\n",
       "</table>\n",
       "</div>"
      ],
      "text/plain": [
       "   FlightNumber        Date BoosterVersion  PayloadMass Orbit    LaunchSite  \\\n",
       "0             1  2010-06-04       Falcon 9  6104.959412   LEO  CCAFS SLC 40   \n",
       "1             2  2012-05-22       Falcon 9   525.000000   LEO  CCAFS SLC 40   \n",
       "2             3  2013-03-01       Falcon 9   677.000000   ISS  CCAFS SLC 40   \n",
       "3             4  2013-09-29       Falcon 9   500.000000    PO   VAFB SLC 4E   \n",
       "4             5  2013-12-03       Falcon 9  3170.000000   GTO  CCAFS SLC 40   \n",
       "\n",
       "       Outcome  Flights  GridFins  Reused   Legs LandingPad  Block  \\\n",
       "0    None None        1     False   False  False        NaN    1.0   \n",
       "1    None None        1     False   False  False        NaN    1.0   \n",
       "2    None None        1     False   False  False        NaN    1.0   \n",
       "3  False Ocean        1     False   False  False        NaN    1.0   \n",
       "4    None None        1     False   False  False        NaN    1.0   \n",
       "\n",
       "   ReusedCount Serial   Longitude   Latitude  Class  \n",
       "0            0  B0003  -80.577366  28.561857      0  \n",
       "1            0  B0005  -80.577366  28.561857      0  \n",
       "2            0  B0007  -80.577366  28.561857      0  \n",
       "3            0  B1003 -120.610829  34.632093      0  \n",
       "4            0  B1004  -80.577366  28.561857      0  "
      ]
     },
     "execution_count": 12,
     "metadata": {},
     "output_type": "execute_result"
    }
   ],
   "source": [
    "df.head(5)"
   ]
  },
  {
   "cell_type": "markdown",
   "id": "353acb99",
   "metadata": {
    "papermill": {
     "duration": 0.011279,
     "end_time": "2022-11-14T07:01:43.295354",
     "exception": false,
     "start_time": "2022-11-14T07:01:43.284075",
     "status": "completed"
    },
    "tags": []
   },
   "source": [
    "We can use the following line of code to determine  the success rate:\n"
   ]
  },
  {
   "cell_type": "code",
   "execution_count": 13,
   "id": "4dfa24d0",
   "metadata": {
    "execution": {
     "iopub.execute_input": "2022-11-14T07:01:43.320139Z",
     "iopub.status.busy": "2022-11-14T07:01:43.319723Z",
     "iopub.status.idle": "2022-11-14T07:01:43.327476Z",
     "shell.execute_reply": "2022-11-14T07:01:43.326097Z"
    },
    "papermill": {
     "duration": 0.023107,
     "end_time": "2022-11-14T07:01:43.329972",
     "exception": false,
     "start_time": "2022-11-14T07:01:43.306865",
     "status": "completed"
    },
    "tags": []
   },
   "outputs": [
    {
     "data": {
      "text/plain": [
       "0.6666666666666666"
      ]
     },
     "execution_count": 13,
     "metadata": {},
     "output_type": "execute_result"
    }
   ],
   "source": [
    "df[\"Class\"].mean()"
   ]
  },
  {
   "cell_type": "markdown",
   "id": "08ab3d3b",
   "metadata": {
    "papermill": {
     "duration": 0.017441,
     "end_time": "2022-11-14T07:01:43.359916",
     "exception": false,
     "start_time": "2022-11-14T07:01:43.342475",
     "status": "completed"
    },
    "tags": []
   },
   "source": [
    "We can now export it to a CSV for the next section,but to make the answers consistent, in the next lab we will provide data in a pre-selected date range.\n"
   ]
  },
  {
   "cell_type": "markdown",
   "id": "e5550892",
   "metadata": {
    "papermill": {
     "duration": 0.014638,
     "end_time": "2022-11-14T07:01:43.386977",
     "exception": false,
     "start_time": "2022-11-14T07:01:43.372339",
     "status": "completed"
    },
    "tags": []
   },
   "source": [
    "<code>df.to_csv(\"dataset_part\\_2.csv\", index=False)</code>\n"
   ]
  },
  {
   "cell_type": "code",
   "execution_count": 14,
   "id": "f5d5726f",
   "metadata": {
    "execution": {
     "iopub.execute_input": "2022-11-14T07:01:43.420627Z",
     "iopub.status.busy": "2022-11-14T07:01:43.420235Z",
     "iopub.status.idle": "2022-11-14T07:01:43.428159Z",
     "shell.execute_reply": "2022-11-14T07:01:43.426921Z"
    },
    "papermill": {
     "duration": 0.029446,
     "end_time": "2022-11-14T07:01:43.431161",
     "exception": false,
     "start_time": "2022-11-14T07:01:43.401715",
     "status": "completed"
    },
    "tags": []
   },
   "outputs": [],
   "source": [
    "df.to_csv(\"dataset_part_2.csv\", index=False)"
   ]
  },
  {
   "cell_type": "markdown",
   "id": "8320bb46",
   "metadata": {
    "papermill": {
     "duration": 0.016804,
     "end_time": "2022-11-14T07:01:43.465941",
     "exception": false,
     "start_time": "2022-11-14T07:01:43.449137",
     "status": "completed"
    },
    "tags": []
   },
   "source": [
    "## Authors\n"
   ]
  },
  {
   "cell_type": "markdown",
   "id": "64411916",
   "metadata": {
    "papermill": {
     "duration": 0.012587,
     "end_time": "2022-11-14T07:01:43.491392",
     "exception": false,
     "start_time": "2022-11-14T07:01:43.478805",
     "status": "completed"
    },
    "tags": []
   },
   "source": [
    "<a href=\"https://www.linkedin.com/in/joseph-s-50398b136/?utm_medium=Exinfluencer&utm_source=Exinfluencer&utm_content=000026UJ&utm_term=10006555&utm_id=NA-SkillsNetwork-Channel-SkillsNetworkCoursesIBMDS0321ENSkillsNetwork26802033-2022-01-01\">Joseph Santarcangelo</a> has a PhD in Electrical Engineering, his research focused on using machine learning, signal processing, and computer vision to determine how videos impact human cognition. Joseph has been working for IBM since he completed his PhD.\n"
   ]
  },
  {
   "cell_type": "markdown",
   "id": "e2c7a564",
   "metadata": {
    "papermill": {
     "duration": 0.011316,
     "end_time": "2022-11-14T07:01:43.514317",
     "exception": false,
     "start_time": "2022-11-14T07:01:43.503001",
     "status": "completed"
    },
    "tags": []
   },
   "source": [
    "<a href=\"https://www.linkedin.com/in/nayefaboutayoun/?utm_medium=Exinfluencer&utm_source=Exinfluencer&utm_content=000026UJ&utm_term=10006555&utm_id=NA-SkillsNetwork-Channel-SkillsNetworkCoursesIBMDS0321ENSkillsNetwork26802033-2022-01-01\">Nayef Abou Tayoun</a> is a Data Scientist at IBM and pursuing a Master of Management in Artificial intelligence degree at Queen's University.\n"
   ]
  },
  {
   "cell_type": "markdown",
   "id": "dc1afb40",
   "metadata": {
    "papermill": {
     "duration": 0.011237,
     "end_time": "2022-11-14T07:01:43.537071",
     "exception": false,
     "start_time": "2022-11-14T07:01:43.525834",
     "status": "completed"
    },
    "tags": []
   },
   "source": [
    "## Change Log\n"
   ]
  },
  {
   "cell_type": "markdown",
   "id": "8821ba3a",
   "metadata": {
    "papermill": {
     "duration": 0.011363,
     "end_time": "2022-11-14T07:01:43.559968",
     "exception": false,
     "start_time": "2022-11-14T07:01:43.548605",
     "status": "completed"
    },
    "tags": []
   },
   "source": [
    "| Date (YYYY-MM-DD) | Version | Changed By    | Change Description      |\n",
    "| ----------------- | ------- | ------------- | ----------------------- |\n",
    "| 2021-08-31        | 1.1     | Lakshmi Holla | Changed Markdown        |\n",
    "| 2020-09-20        | 1.0     | Joseph        | Modified Multiple Areas |\n",
    "| 2020-11-04        | 1.1.    | Nayef         | updating the input data |\n",
    "| 2021-05-026       | 1.1.    | Joseph        | updating the input data |\n"
   ]
  },
  {
   "cell_type": "markdown",
   "id": "44ddb1e2",
   "metadata": {
    "papermill": {
     "duration": 0.011245,
     "end_time": "2022-11-14T07:01:43.582763",
     "exception": false,
     "start_time": "2022-11-14T07:01:43.571518",
     "status": "completed"
    },
    "tags": []
   },
   "source": [
    "Copyright © 2021 IBM Corporation. All rights reserved.\n"
   ]
  }
 ],
 "metadata": {
  "kernelspec": {
   "display_name": "Python 3",
   "language": "python",
   "name": "python3"
  },
  "language_info": {
   "codemirror_mode": {
    "name": "ipython",
    "version": 3
   },
   "file_extension": ".py",
   "mimetype": "text/x-python",
   "name": "python",
   "nbconvert_exporter": "python",
   "pygments_lexer": "ipython3",
   "version": "3.7.12"
  },
  "papermill": {
   "default_parameters": {},
   "duration": 11.334488,
   "end_time": "2022-11-14T07:01:44.215457",
   "environment_variables": {},
   "exception": null,
   "input_path": "__notebook__.ipynb",
   "output_path": "__notebook__.ipynb",
   "parameters": {},
   "start_time": "2022-11-14T07:01:32.880969",
   "version": "2.3.4"
  }
 },
 "nbformat": 4,
 "nbformat_minor": 5
}
